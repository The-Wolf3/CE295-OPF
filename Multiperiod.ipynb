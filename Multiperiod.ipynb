{
 "cells": [
  {
   "cell_type": "code",
   "execution_count": 23,
   "metadata": {},
   "outputs": [],
   "source": [
    "import numpy as np\n",
    "import cvxpy as cp\n",
    "\n",
    "from case import *\n",
    "\n",
    "\n",
    "class MRunResult:\n",
    "\n",
    "    def __init__(self, diesel, renew, sot, value):\n",
    "        self.diesel = diesel\n",
    "        self.renew = renew\n",
    "        self.sot = sot\n",
    "        self.value = value\n",
    "        \n",
    "\n",
    "def runMOPF(case, genData, T=1, init_sot=0.1, cycle=True, robust=False, verb=False, solver=None, **kwargs):\n",
    "    # load data from case\n",
    "    n = case.N\n",
    "    Y = case.adj\n",
    "    Sij = case.smax\n",
    "    v_lim = case.vlim\n",
    "    lines = case.getLines()\n",
    "\n",
    "    renew = genData.renew\n",
    "    avgs = genData.avgs\n",
    "    stds = genData.stds\n",
    "    batteries = genData.batteries\n",
    "    diesel = genData.diesel\n",
    "    Load_data = genData.Load_data\n",
    "    renew_lim = genData.renew_lim\n",
    "\n",
    "    #Voltage matrix\n",
    "    V = [cp.Variable((n,n), hermitian=True) for _ in range(T)]\n",
    "\n",
    "    # power transfer variables\n",
    "    pij = cp.Variable((len(lines), T))\n",
    "    pji = cp.Variable((len(lines), T))\n",
    "    qij = cp.Variable((len(lines), T))\n",
    "    qji = cp.Variable((len(lines), T))\n",
    "\n",
    "    # total generation variable\n",
    "    pi_g = cp.Variable((n, T))\n",
    "    qi_g = cp.Variable((n, T))\n",
    "    renew_real = cp.Variable((len(renew), T))\n",
    "    renew_react = cp.Variable((len(renew), T))\n",
    "\n",
    "    \n",
    "\n",
    "    diesel_real = cp.Variable((len(diesel), T))\n",
    "    diesel_react = cp.Variable((len(diesel), T))\n",
    "    sot = cp.Variable((n, T))\n",
    "    pow_out = cp.Variable((n, T))\n",
    "    pow_in = cp.Variable((n, T))\n",
    "\n",
    "    max_out = 2\n",
    "    max_in = 3\n",
    "    max_charge = 100\n",
    "    eta_in = 0.95\n",
    "    eta_out = 0.95\n",
    "\n",
    "    # Define constraints\n",
    "    constraints=[]\n",
    "\n",
    "    constraints += [pow_out >= 0, pow_in >= 0, sot >= 0]\n",
    "    constraints += [pow_out <= max_out, pow_in <= max_in, sot <= max_charge]\n",
    "\n",
    "    #Constraints on active and reactive generation (min-max)\n",
    "    constraints += [diesel_real >= 0, diesel_real <= 50]\n",
    "    constraints += [diesel_react >= -50, diesel_react <= 50]\n",
    "    constraints += [renew_react >= -50, renew_react <= 50]\n",
    "    for t in range(T):\n",
    "        for i in range(renew_lim.shape[0]):\n",
    "            constraints += [renew_real[i, t] <= renew_lim[i, t]]\n",
    "    constraints += [renew_real >= 0]\n",
    "\n",
    "\n",
    "    # Calculate the sum of all inbound power flows to each bus\n",
    "    for t in range(T):\n",
    "\n",
    "        if robust:\n",
    "            max_gen = np.sum(avgs[:,t])-np.linalg.norm(stds[:,t])\n",
    "            if max_gen > 0:\n",
    "                constraints += [cp.sum(renew_real[:,t])<=max_gen]\n",
    "            else:\n",
    "                constraints += [cp,sum(renew_real[:,t])<=0]\n",
    "        if cycle:\n",
    "            constraints += [sot[:,-1] == init_sot]\n",
    "\n",
    "        for i in range(n) :  \n",
    "            psum = 0\n",
    "            qsum = 0\n",
    "            for line in range(len(lines)):\n",
    "                start, end = lines[line]\n",
    "                if start == i:\n",
    "                    psum += pij[line, t]\n",
    "                    qsum += qij[line, t]\n",
    "                elif end == i:\n",
    "                    psum += pji[line, t]\n",
    "                    qsum += qji[line, t]\n",
    "\n",
    "            # Sum pij = pi\n",
    "            if t>0 and i in batteries:\n",
    "                constraints += [sot[i, t] == sot[i, t-1] + (pow_in[i, t]*eta_in-pow_out[i, t]/eta_out)]\n",
    "            else:\n",
    "                constraints += [sot[i, t] == init_sot]\n",
    "                constraints += [pow_in[i, t]==0, pow_out[i, t] == 0]\n",
    "            gensum = 0\n",
    "            rgensum = 0\n",
    "            if i in batteries:\n",
    "                gensum += -pow_in[i, t]+pow_out[i, t]\n",
    "            if i in renew:\n",
    "                gensum += renew_real[renew.index(i), t]\n",
    "                rgensum += renew_react[renew.index(i), t]\n",
    "            if i in diesel:\n",
    "                gensum += diesel_real[diesel.index(i), t]\n",
    "                rgensum += diesel_react[diesel.index(i), t]\n",
    "            constraints += [psum == gensum-Load_data[i,0, t]]\n",
    "            # Sum qij = qi \n",
    "            constraints += [qsum == rgensum-Load_data[i,1, t]]\n",
    "\n",
    "            \n",
    "\n",
    "            # Voltage limits\n",
    "            constraints+=[cp.real(V[t][i,i])>= 0.95**2, cp.real(V[t][i,i]) <= 1.05**2]\n",
    "            constraints += [cp.imag(V[t][i,i]) == 0]\n",
    "\n",
    "        # Power flow equations (sparse representation)\n",
    "        for line in range(len(lines)):\n",
    "            i, j = lines[line]\n",
    "                \n",
    "            #Powerflow\n",
    "            constraints+=[pij[line, t] + 1j*qij[line, t]==(V[t][i,i]-V[t][i,j])*np.conjugate(Y[i,j])] \n",
    "            constraints+=[pji[line, t] + 1j*qji[line, t]==(V[t][j,j]-V[t][j,i])*np.conjugate(Y[j,i])] \n",
    "            \n",
    "            if not Sij[i,j] == 0:\n",
    "            #Apparent power capacity S_bar\n",
    "                constraints+=[cp.square(pij[line, t])+cp.square(qij[line, t])<=cp.square(Sij[i,j])]\n",
    "                constraints+=[cp.square(pji[line, t])+cp.square(qji[line, t])<=cp.square(Sij[j,i])]\n",
    "                \n",
    "        for line in range(len(lines)):\n",
    "            i, j = lines[line]\n",
    "            constraints+=[cp.norm(cp.hstack([2*V[t][i,j],(V[t][i,i]-V[t][j,j])])) <= cp.real(V[t][i,i]+V[t][j,j])]\n",
    "            constraints+=[cp.norm(cp.hstack([2*V[t][j,i],(V[t][j,j]-V[t][i,i])])) <= cp.real(V[t][j,j]+V[t][i,i])]\n",
    "\n",
    "    # Define costs\n",
    "    Costs = cp.sum(diesel_real)\n",
    "    \n",
    "    prob = cp.Problem(cp.Minimize(Costs), constraints)\n",
    "    prob.solve(verbose=verb)\n",
    "    try:\n",
    "        ans = MRunResult(diesel_real.value, renew_real.value, sot.value, prob.value)\n",
    "    except TypeError:\n",
    "        return None\n",
    "    return ans"
   ]
  },
  {
   "cell_type": "code",
   "execution_count": null,
   "metadata": {},
   "outputs": [],
   "source": []
  },
  {
   "cell_type": "code",
   "execution_count": 8,
   "metadata": {},
   "outputs": [],
   "source": [
    "case39 = loadCase(\"cases\\\\case39.json\")"
   ]
  },
  {
   "cell_type": "code",
   "execution_count": 9,
   "metadata": {},
   "outputs": [
    {
     "data": {
      "text/plain": [
       "62.542300000000004"
      ]
     },
     "execution_count": 9,
     "metadata": {},
     "output_type": "execute_result"
    }
   ],
   "source": [
    "np.sum(case39.loadData[:,0])"
   ]
  },
  {
   "cell_type": "code",
   "execution_count": 10,
   "metadata": {},
   "outputs": [
    {
     "data": {
      "text/plain": [
       "29"
      ]
     },
     "execution_count": 10,
     "metadata": {},
     "output_type": "execute_result"
    }
   ],
   "source": [
    "np.sum(case39.genData[:,0] == 0)"
   ]
  },
  {
   "cell_type": "code",
   "execution_count": 85,
   "metadata": {},
   "outputs": [],
   "source": [
    "diesel = [29]\n",
    "batteries = [29, 30, 31, 32, 33, 34, 35, 36, 37, 38]\n",
    "renew = [30, 31, 32, 33, 34, 35, 36, 37, 38]\n",
    "\n",
    "class gens:\n",
    "\n",
    "    def __init__(self, diesel, batteries, renew, avgs, stds, Load_data, renew_lim):\n",
    "        self.renew = renew\n",
    "        self.diesel = diesel\n",
    "        self.batteries = batteries\n",
    "        self.avgs = avgs\n",
    "        self.stds = stds\n",
    "        self.Load_data = Load_data\n",
    "        self.renew_lim = renew_lim\n"
   ]
  },
  {
   "cell_type": "code",
   "execution_count": 42,
   "metadata": {},
   "outputs": [],
   "source": [
    "import os\n",
    "import matplotlib.pyplot as plt\n",
    "pv_directory   = 'PV Generation Data'\n",
    "load_directory = 'Building Load Data'\n",
    "wind_directory = 'Wind Generation Data'\n",
    "\n",
    "# ALREADY GENERATED, takes 5 minutes to generate again so keep commented out\n",
    "#dp.generate_json_from_pv_data(pv_directory) \n",
    "#dp.generate_json_from_bldg_data(load_directory) \n",
    "#dp.generate_json_from_wind_data(wind_directory) \n",
    "\n",
    "with open(os.path.join(pv_directory, 'pv_data.json'), 'r') as json_file:\n",
    "    pv_dict = json.load(json_file)\n",
    "\n",
    "for key in pv_dict.keys(): # get data from first key only (CAPTL_WF)\n",
    "    solar_data = np.array(pv_dict[key])\n",
    "    break\n",
    "\n",
    "# for key, value in pv_dict.items():\n",
    "    # print(key, value['0'])\n",
    "    # break\n",
    "\n",
    "with open(os.path.join(load_directory, 'real_data.json'), 'r') as json_file:\n",
    "    real_load_dict = json.load(json_file)\n",
    "\n",
    "with open(os.path.join(load_directory, 'reactive_data.json'), 'r') as json_file:\n",
    "    reactive_load_dict = json.load(json_file)\n",
    "\n",
    "with open(os.path.join(wind_directory, 'wind_data.json'), 'r') as json_file:\n",
    "    wind_dict = json.load(json_file)\n",
    "\n",
    "real_load_dict.keys()\n",
    "real_load_dict['GeiselLibrary0']['0']\n",
    "def toNDct(dict):\n",
    "    ans = []\n",
    "    for bld in dict:\n",
    "        ls2 = []\n",
    "        for day in dict[bld]:\n",
    "            ls2.append(dict[bld][day])\n",
    "        ans.append(ls2)\n",
    "    return np.asarray(ans)\n",
    "\n",
    "real_load = toNDct(real_load_dict)\n",
    "react_load = toNDct(reactive_load_dict)\n",
    "wind = toNDct(wind_dict)\n",
    "solar = toNDct(pv_dict)\n"
   ]
  },
  {
   "cell_type": "code",
   "execution_count": 86,
   "metadata": {},
   "outputs": [],
   "source": [
    "Load_data = np.zeros((39, 2, 24))\n",
    "Load_data[:27,:] = np.stack((real_load[:,0,0::4], react_load[:,0,0::4]), axis=1)\n",
    "renew_lim = (wind[:9,0,0::4]+solar[:9,0,0::4])*5\n",
    "avgs = np.mean((wind[:9,:,0::4]+solar[:9,:,0::4])*4, axis=1)\n",
    "stds = np.std((wind[:9,:,0::4]+solar[:9,:,0::4])*18, axis=1)\n",
    "\n",
    "genDat = gens(diesel, batteries, renew, avgs, stds, Load_data, renew_lim)"
   ]
  },
  {
   "cell_type": "code",
   "execution_count": 52,
   "metadata": {},
   "outputs": [
    {
     "data": {
      "text/plain": [
       "(9, 24)"
      ]
     },
     "execution_count": 52,
     "metadata": {},
     "output_type": "execute_result"
    }
   ],
   "source": [
    "avgs.shape"
   ]
  },
  {
   "cell_type": "code",
   "execution_count": 53,
   "metadata": {},
   "outputs": [
    {
     "data": {
      "text/plain": [
       "12.516350694094886"
      ]
     },
     "execution_count": 53,
     "metadata": {},
     "output_type": "execute_result"
    }
   ],
   "source": [
    "np.sum(Load_data[:,1, 0])"
   ]
  },
  {
   "cell_type": "code",
   "execution_count": 87,
   "metadata": {},
   "outputs": [],
   "source": [
    "#res = runMOPF(case39, genDat, T=24, init_sot=0)\n",
    "res2 = runMOPF(case39, genDat, T=24, init_sot=0, robust=True)"
   ]
  },
  {
   "cell_type": "code",
   "execution_count": 28,
   "metadata": {},
   "outputs": [
    {
     "data": {
      "text/plain": [
       "array([[1.08659978e-12, 1.05907227e-11, 3.75832698e-12, 1.70352621e-12,\n",
       "        1.13642429e-12, 1.11777254e-12, 1.11066711e-12, 1.08424381e-12,\n",
       "        1.05937481e-12, 1.04272146e-12, 1.03006492e-12, 1.02384767e-12,\n",
       "        1.02007292e-12, 1.01518793e-12, 1.01474384e-12, 1.01074704e-12,\n",
       "        1.00519593e-12, 9.99866856e-13, 9.96092098e-13, 9.95203919e-13,\n",
       "        9.95314942e-13, 1.00819353e-12, 1.02173825e-12, 1.08879572e-12]])"
      ]
     },
     "execution_count": 28,
     "metadata": {},
     "output_type": "execute_result"
    }
   ],
   "source": [
    "np.sum(res.diesel)\n",
    "res.diesel"
   ]
  },
  {
   "cell_type": "code",
   "execution_count": 67,
   "metadata": {},
   "outputs": [
    {
     "name": "stdout",
     "output_type": "stream",
     "text": [
      "3.791544530479339e-11\n",
      "13.767345587859124\n"
     ]
    }
   ],
   "source": [
    "print(np.sum(res.diesel))\n",
    "print(np.sum(res2.diesel))\n"
   ]
  },
  {
   "cell_type": "code",
   "execution_count": 44,
   "metadata": {},
   "outputs": [
    {
     "data": {
      "text/plain": [
       "array([[1.08659978e-12, 1.05907227e-11, 3.75832698e-12, 1.70352621e-12,\n",
       "        1.13642429e-12, 1.11777254e-12, 1.11066711e-12, 1.08424381e-12,\n",
       "        1.05937481e-12, 1.04272146e-12, 1.03006492e-12, 1.02384767e-12,\n",
       "        1.02007292e-12, 1.01518793e-12, 1.01474384e-12, 1.01074704e-12,\n",
       "        1.00519593e-12, 9.99866856e-13, 9.96092098e-13, 9.95203919e-13,\n",
       "        9.95314942e-13, 1.00819353e-12, 1.02173825e-12, 1.08879572e-12]])"
      ]
     },
     "execution_count": 44,
     "metadata": {},
     "output_type": "execute_result"
    }
   ],
   "source": [
    "res.diesel"
   ]
  },
  {
   "cell_type": "code",
   "execution_count": null,
   "metadata": {},
   "outputs": [],
   "source": []
  },
  {
   "cell_type": "code",
   "execution_count": 75,
   "metadata": {},
   "outputs": [
    {
     "data": {
      "text/plain": [
       "array([ 9.93786928,  9.78634245,  9.65294563,  9.93631338, 10.4937937 ,\n",
       "       11.63412267, 13.44776169, 16.43996023, 20.77690097, 25.17020168,\n",
       "       28.63228308, 30.454716  , 29.81778399, 27.29755142, 23.75931381,\n",
       "       19.29845035, 14.29542197, 10.56103361,  9.11788944,  9.11907175,\n",
       "        9.65546761, 10.25136993, 10.1143196 , 10.03649637])"
      ]
     },
     "execution_count": 75,
     "metadata": {},
     "output_type": "execute_result"
    }
   ],
   "source": [
    "np.sum(avgs, axis=0)-np.linalg.norm(stds, axis=0)"
   ]
  },
  {
   "cell_type": "code",
   "execution_count": 88,
   "metadata": {},
   "outputs": [
    {
     "ename": "TypeError",
     "evalue": "'NoneType' object is not subscriptable",
     "output_type": "error",
     "traceback": [
      "\u001b[1;31m---------------------------------------------------------------------------\u001b[0m",
      "\u001b[1;31mTypeError\u001b[0m                                 Traceback (most recent call last)",
      "\u001b[1;32m~\\AppData\\Local\\Temp/ipykernel_29964/525007872.py\u001b[0m in \u001b[0;36m<cell line: 2>\u001b[1;34m()\u001b[0m\n\u001b[0;32m      1\u001b[0m \u001b[0mplt\u001b[0m\u001b[1;33m.\u001b[0m\u001b[0mplot\u001b[0m\u001b[1;33m(\u001b[0m\u001b[0mres\u001b[0m\u001b[1;33m.\u001b[0m\u001b[0mdiesel\u001b[0m\u001b[1;33m[\u001b[0m\u001b[1;36m0\u001b[0m\u001b[1;33m]\u001b[0m\u001b[1;33m)\u001b[0m\u001b[1;33m\u001b[0m\u001b[1;33m\u001b[0m\u001b[0m\n\u001b[1;32m----> 2\u001b[1;33m \u001b[0mplt\u001b[0m\u001b[1;33m.\u001b[0m\u001b[0mplot\u001b[0m\u001b[1;33m(\u001b[0m\u001b[0mres2\u001b[0m\u001b[1;33m.\u001b[0m\u001b[0mdiesel\u001b[0m\u001b[1;33m[\u001b[0m\u001b[1;36m0\u001b[0m\u001b[1;33m]\u001b[0m\u001b[1;33m)\u001b[0m\u001b[1;33m\u001b[0m\u001b[1;33m\u001b[0m\u001b[0m\n\u001b[0m\u001b[0;32m      3\u001b[0m \u001b[0mplt\u001b[0m\u001b[1;33m.\u001b[0m\u001b[0mplot\u001b[0m\u001b[1;33m(\u001b[0m\u001b[0mnp\u001b[0m\u001b[1;33m.\u001b[0m\u001b[0msum\u001b[0m\u001b[1;33m(\u001b[0m\u001b[0mres2\u001b[0m\u001b[1;33m.\u001b[0m\u001b[0mrenew\u001b[0m\u001b[1;33m,\u001b[0m \u001b[0maxis\u001b[0m\u001b[1;33m=\u001b[0m\u001b[1;36m0\u001b[0m\u001b[1;33m)\u001b[0m\u001b[1;33m)\u001b[0m\u001b[1;33m\u001b[0m\u001b[1;33m\u001b[0m\u001b[0m\n\u001b[0;32m      4\u001b[0m \u001b[0mplt\u001b[0m\u001b[1;33m.\u001b[0m\u001b[0mplot\u001b[0m\u001b[1;33m(\u001b[0m\u001b[0mnp\u001b[0m\u001b[1;33m.\u001b[0m\u001b[0msum\u001b[0m\u001b[1;33m(\u001b[0m\u001b[0mLoad_data\u001b[0m\u001b[1;33m[\u001b[0m\u001b[1;33m:\u001b[0m\u001b[1;33m,\u001b[0m\u001b[1;36m0\u001b[0m\u001b[1;33m,\u001b[0m\u001b[1;33m:\u001b[0m\u001b[1;33m]\u001b[0m\u001b[1;33m,\u001b[0m \u001b[0maxis\u001b[0m\u001b[1;33m=\u001b[0m\u001b[1;36m0\u001b[0m\u001b[1;33m)\u001b[0m\u001b[1;33m)\u001b[0m\u001b[1;33m\u001b[0m\u001b[1;33m\u001b[0m\u001b[0m\n",
      "\u001b[1;31mTypeError\u001b[0m: 'NoneType' object is not subscriptable"
     ]
    },
    {
     "data": {
      "image/png": "[encoded data removed]",
      "text/plain": [
       "<Figure size 432x288 with 1 Axes>"
      ]
     },
     "metadata": {
      "needs_background": "light"
     },
     "output_type": "display_data"
    }
   ],
   "source": [
    "plt.plot(res.diesel[0])\n",
    "plt.plot(res2.diesel[0])\n",
    "plt.plot(np.sum(res2.renew, axis=0))\n",
    "plt.plot(np.sum(Load_data[:,0,:], axis=0))"
   ]
  },
  {
   "cell_type": "code",
   "execution_count": 59,
   "metadata": {},
   "outputs": [
    {
     "data": {
      "text/plain": [
       "(39, 24)"
      ]
     },
     "execution_count": 59,
     "metadata": {},
     "output_type": "execute_result"
    }
   ],
   "source": [
    "res.sot.shape"
   ]
  },
  {
   "cell_type": "code",
   "execution_count": 77,
   "metadata": {},
   "outputs": [
    {
     "data": {
      "text/plain": [
       "[<matplotlib.lines.Line2D at 0x25e8081adf0>]"
      ]
     },
     "execution_count": 77,
     "metadata": {},
     "output_type": "execute_result"
    },
    {
     "data": {
      "image/png": "[encoded data removed]",
      "text/plain": [
       "<Figure size 432x288 with 1 Axes>"
      ]
     },
     "metadata": {
      "needs_background": "light"
     },
     "output_type": "display_data"
    }
   ],
   "source": [
    "plt.plot(res.diesel[0])\n",
    "plt.plot(res2.diesel[0])\n",
    "[plt.plot(res.sot[i,:]) for i in range(39)]\n",
    "plt.plot(np.sum(res2.renew, axis=0))\n",
    "plt.plot(np.sum(Load_data[:,0,:], axis=0))"
   ]
  },
  {
   "cell_type": "code",
   "execution_count": 18,
   "metadata": {},
   "outputs": [
    {
     "data": {
      "text/plain": [
       "array([[0.00997009, 0.22087569, 0.1938243 , 0.87461781, 1.55541131,\n",
       "        2.44359887, 3.05444532, 3.49207203, 5.42603029, 6.84147917,\n",
       "        6.29776046, 6.25328703, 6.15220434, 4.51638772, 1.99864338,\n",
       "        1.96933815, 2.64018585, 2.26876179, 3.16596649, 3.93693132,\n",
       "        2.84585828, 2.19211617, 1.40762563, 1.35352284],\n",
       "       [3.82150907, 4.41021788, 4.11827842, 4.18589675, 4.73596651,\n",
       "        4.77245895, 4.76601911, 5.03135967, 6.42860124, 7.80941646,\n",
       "        7.51659277, 6.2231083 , 5.4692219 , 4.7341101 , 4.06203153,\n",
       "        2.50782741, 1.03683109, 0.82690401, 2.35268863, 3.92722979,\n",
       "        4.57658044, 3.45229151, 3.51454331, 4.10700869],\n",
       "       [3.57082333, 4.61869792, 4.92020901, 4.47747493, 4.68154216,\n",
       "        4.68012993, 4.61869792, 4.7641576 , 4.26422551, 5.7169244 ,\n",
       "        6.73995674, 6.64262292, 5.15860012, 4.51274736, 3.74656889,\n",
       "        3.3828873 , 1.38475277, 1.02378776, 3.01511086, 3.98319446,\n",
       "        4.60245728, 3.74029092, 3.67179777, 2.8329332 ],\n",
       "       [1.51303994, 1.30696447, 1.2371    , 1.51829874, 1.67401761,\n",
       "        1.87640063, 2.96380157, 4.2386761 , 4.2307563 , 5.29042285,\n",
       "        6.00351328, 4.83575022, 3.65762937, 5.29458683, 6.20494279,\n",
       "        5.14068862, 4.34105531, 2.96104251, 0.83165566, 1.02367673,\n",
       "        0.71896666, 0.55520157, 0.13094497, 0.2741739 ],\n",
       "       [2.08623569, 2.48341595, 2.49086094, 2.64981994, 1.55888917,\n",
       "        1.84057203, 3.01098229, 3.68752395, 4.06073414, 4.38350989,\n",
       "        6.70203016, 6.79707053, 5.56296157, 5.16809247, 6.17752222,\n",
       "        5.01196544, 3.11487772, 2.80253347, 0.75697439, 1.21951159,\n",
       "        0.69928097, 0.38869612, 0.17915832, 0.28753981],\n",
       "       [1.12934961, 1.26995708, 1.18548327, 1.37649094, 1.35410292,\n",
       "        2.2032626 , 3.35061907, 3.71597973, 3.68197947, 4.38712143,\n",
       "        5.20817258, 3.96443632, 4.18223737, 4.61261896, 7.54779691,\n",
       "        4.58500961, 3.67495298, 2.52026833, 0.55004707, 0.57805924,\n",
       "        0.47119759, 0.37006955, 0.02698746, 0.18446775],\n",
       "       [0.63483932, 0.89195689, 1.13029197, 1.4586855 , 2.08537203,\n",
       "        2.18258461, 2.65137662, 2.9747462 , 2.60912287, 3.6554623 ,\n",
       "        4.84569362, 6.4306822 , 6.71633138, 6.46432924, 6.37596854,\n",
       "        5.78712426, 5.22300102, 3.391181  , 2.84262604, 1.67763864,\n",
       "        2.11958279, 2.61097548, 2.35544193, 2.63844247],\n",
       "       [3.41278094, 3.2815382 , 3.32436768, 3.30168014, 3.29611016,\n",
       "        3.30967905, 3.37198346, 4.41683395, 5.82328823, 7.06221014,\n",
       "        7.64829673, 7.961796  , 7.85708106, 7.6152749 , 6.38820034,\n",
       "        5.6270221 , 1.64405842, 3.39752966, 3.2888286 , 3.28552995,\n",
       "        3.29635787, 3.30318107, 3.27130402, 3.27408863],\n",
       "       [2.04376237, 1.01278318, 0.51804595, 0.21962726, 0.03279019,\n",
       "        0.92234885, 2.47286073, 3.41761638, 3.98783079, 4.11840834,\n",
       "        4.01719142, 3.6901026 , 2.54021172, 0.30094649, 0.01815723,\n",
       "        0.0112034 , 0.01101024, 0.01101024, 0.0112034 , 0.02921829,\n",
       "        0.11554747, 0.54638471, 0.90456723, 0.7286534 ]])"
      ]
     },
     "execution_count": 18,
     "metadata": {},
     "output_type": "execute_result"
    }
   ],
   "source": [
    "renew_lim"
   ]
  },
  {
   "cell_type": "code",
   "execution_count": 19,
   "metadata": {},
   "outputs": [
    {
     "data": {
      "text/plain": [
       "array([[-0.        , -0.        , -0.        , -0.        , -0.        ,\n",
       "        -0.        , -0.        , -0.        , -0.        , -0.        ,\n",
       "        -0.        , -0.        , -0.        , -0.        , -0.        ,\n",
       "        -0.        , -0.        , -0.        , -0.        , -0.        ,\n",
       "        -0.        , -0.        , -0.        , -0.        ],\n",
       "       [-0.        , -0.        , -0.        , -0.        , -0.        ,\n",
       "        -0.        , -0.        , -0.        , -0.        , -0.        ,\n",
       "        -0.        , -0.        , -0.        , -0.        , -0.        ,\n",
       "        -0.        , -0.        , -0.        , -0.        , -0.        ,\n",
       "        -0.        , -0.        , -0.        , -0.        ],\n",
       "       [-0.        , -0.        , -0.        , -0.        , -0.        ,\n",
       "        -0.        , -0.        , -0.        , -0.        , -0.        ,\n",
       "        -0.        , -0.        , -0.        , -0.        , -0.        ,\n",
       "        -0.        , -0.        , -0.        , -0.        , -0.        ,\n",
       "        -0.        , -0.        , -0.        , -0.        ],\n",
       "       [-0.        , -0.        , -0.        , -0.        , -0.        ,\n",
       "        -0.        , -0.        , -0.        , -0.        , -0.        ,\n",
       "        -0.        , -0.        , -0.        , -0.        , -0.        ,\n",
       "        -0.        , -0.        , -0.        , -0.        , -0.        ,\n",
       "        -0.        , -0.        , -0.        , -0.        ],\n",
       "       [-0.        , -0.        , -0.        , -0.        , -0.        ,\n",
       "        -0.        , -0.        , -0.        , -0.        , -0.        ,\n",
       "        -0.        , -0.        , -0.        , -0.        , -0.        ,\n",
       "        -0.        , -0.        , -0.        , -0.        , -0.        ,\n",
       "        -0.        , -0.        , -0.        , -0.        ],\n",
       "       [-0.        , -0.        , -0.        , -0.        , -0.        ,\n",
       "        -0.        , -0.        , -0.        , -0.        , -0.        ,\n",
       "        -0.        , -0.        , -0.        , -0.        , -0.        ,\n",
       "        -0.        , -0.        , -0.        , -0.        , -0.        ,\n",
       "        -0.        , -0.        , -0.        , -0.        ],\n",
       "       [-0.        , -0.        , -0.        , -0.        , -0.        ,\n",
       "        -0.        , -0.        , -0.        , -0.        , -0.        ,\n",
       "        -0.        , -0.        , -0.        , -0.        , -0.        ,\n",
       "        -0.        , -0.        , -0.        , -0.        , -0.        ,\n",
       "        -0.        , -0.        , -0.        , -0.        ],\n",
       "       [-0.        , -0.        , -0.        , -0.        , -0.        ,\n",
       "        -0.        , -0.        , -0.        , -0.        , -0.        ,\n",
       "        -0.        , -0.        , -0.        , -0.        , -0.        ,\n",
       "        -0.        , -0.        , -0.        , -0.        , -0.        ,\n",
       "        -0.        , -0.        , -0.        , -0.        ],\n",
       "       [-0.        , -0.        , -0.        , -0.        , -0.        ,\n",
       "        -0.        , -0.        , -0.        , -0.        , -0.        ,\n",
       "        -0.        , -0.        , -0.        , -0.        , -0.        ,\n",
       "        -0.        , -0.        , -0.        , -0.        , -0.        ,\n",
       "        -0.        , -0.        , -0.        , -0.        ],\n",
       "       [-0.        , -0.        , -0.        , -0.        , -0.        ,\n",
       "        -0.        , -0.        , -0.        , -0.        , -0.        ,\n",
       "        -0.        , -0.        , -0.        , -0.        , -0.        ,\n",
       "        -0.        , -0.        , -0.        , -0.        , -0.        ,\n",
       "        -0.        , -0.        , -0.        , -0.        ],\n",
       "       [-0.        , -0.        , -0.        , -0.        , -0.        ,\n",
       "        -0.        , -0.        , -0.        , -0.        , -0.        ,\n",
       "        -0.        , -0.        , -0.        , -0.        , -0.        ,\n",
       "        -0.        , -0.        , -0.        , -0.        , -0.        ,\n",
       "        -0.        , -0.        , -0.        , -0.        ],\n",
       "       [-0.        , -0.        , -0.        , -0.        , -0.        ,\n",
       "        -0.        , -0.        , -0.        , -0.        , -0.        ,\n",
       "        -0.        , -0.        , -0.        , -0.        , -0.        ,\n",
       "        -0.        , -0.        , -0.        , -0.        , -0.        ,\n",
       "        -0.        , -0.        , -0.        , -0.        ],\n",
       "       [-0.        , -0.        , -0.        , -0.        , -0.        ,\n",
       "        -0.        , -0.        , -0.        , -0.        , -0.        ,\n",
       "        -0.        , -0.        , -0.        , -0.        , -0.        ,\n",
       "        -0.        , -0.        , -0.        , -0.        , -0.        ,\n",
       "        -0.        , -0.        , -0.        , -0.        ],\n",
       "       [-0.        , -0.        , -0.        , -0.        , -0.        ,\n",
       "        -0.        , -0.        , -0.        , -0.        , -0.        ,\n",
       "        -0.        , -0.        , -0.        , -0.        , -0.        ,\n",
       "        -0.        , -0.        , -0.        , -0.        , -0.        ,\n",
       "        -0.        , -0.        , -0.        , -0.        ],\n",
       "       [-0.        , -0.        , -0.        , -0.        , -0.        ,\n",
       "        -0.        , -0.        , -0.        , -0.        , -0.        ,\n",
       "        -0.        , -0.        , -0.        , -0.        , -0.        ,\n",
       "        -0.        , -0.        , -0.        , -0.        , -0.        ,\n",
       "        -0.        , -0.        , -0.        , -0.        ],\n",
       "       [-0.        , -0.        , -0.        , -0.        , -0.        ,\n",
       "        -0.        , -0.        , -0.        , -0.        , -0.        ,\n",
       "        -0.        , -0.        , -0.        , -0.        , -0.        ,\n",
       "        -0.        , -0.        , -0.        , -0.        , -0.        ,\n",
       "        -0.        , -0.        , -0.        , -0.        ],\n",
       "       [-0.        , -0.        , -0.        , -0.        , -0.        ,\n",
       "        -0.        , -0.        , -0.        , -0.        , -0.        ,\n",
       "        -0.        , -0.        , -0.        , -0.        , -0.        ,\n",
       "        -0.        , -0.        , -0.        , -0.        , -0.        ,\n",
       "        -0.        , -0.        , -0.        , -0.        ],\n",
       "       [-0.        , -0.        , -0.        , -0.        , -0.        ,\n",
       "        -0.        , -0.        , -0.        , -0.        , -0.        ,\n",
       "        -0.        , -0.        , -0.        , -0.        , -0.        ,\n",
       "        -0.        , -0.        , -0.        , -0.        , -0.        ,\n",
       "        -0.        , -0.        , -0.        , -0.        ],\n",
       "       [-0.        , -0.        , -0.        , -0.        , -0.        ,\n",
       "        -0.        , -0.        , -0.        , -0.        , -0.        ,\n",
       "        -0.        , -0.        , -0.        , -0.        , -0.        ,\n",
       "        -0.        , -0.        , -0.        , -0.        , -0.        ,\n",
       "        -0.        , -0.        , -0.        , -0.        ],\n",
       "       [-0.        , -0.        , -0.        , -0.        , -0.        ,\n",
       "        -0.        , -0.        , -0.        , -0.        , -0.        ,\n",
       "        -0.        , -0.        , -0.        , -0.        , -0.        ,\n",
       "        -0.        , -0.        , -0.        , -0.        , -0.        ,\n",
       "        -0.        , -0.        , -0.        , -0.        ],\n",
       "       [-0.        , -0.        , -0.        , -0.        , -0.        ,\n",
       "        -0.        , -0.        , -0.        , -0.        , -0.        ,\n",
       "        -0.        , -0.        , -0.        , -0.        , -0.        ,\n",
       "        -0.        , -0.        , -0.        , -0.        , -0.        ,\n",
       "        -0.        , -0.        , -0.        , -0.        ],\n",
       "       [-0.        , -0.        , -0.        , -0.        , -0.        ,\n",
       "        -0.        , -0.        , -0.        , -0.        , -0.        ,\n",
       "        -0.        , -0.        , -0.        , -0.        , -0.        ,\n",
       "        -0.        , -0.        , -0.        , -0.        , -0.        ,\n",
       "        -0.        , -0.        , -0.        , -0.        ],\n",
       "       [-0.        , -0.        , -0.        , -0.        , -0.        ,\n",
       "        -0.        , -0.        , -0.        , -0.        , -0.        ,\n",
       "        -0.        , -0.        , -0.        , -0.        , -0.        ,\n",
       "        -0.        , -0.        , -0.        , -0.        , -0.        ,\n",
       "        -0.        , -0.        , -0.        , -0.        ],\n",
       "       [-0.        , -0.        , -0.        , -0.        , -0.        ,\n",
       "        -0.        , -0.        , -0.        , -0.        , -0.        ,\n",
       "        -0.        , -0.        , -0.        , -0.        , -0.        ,\n",
       "        -0.        , -0.        , -0.        , -0.        , -0.        ,\n",
       "        -0.        , -0.        , -0.        , -0.        ],\n",
       "       [-0.        , -0.        , -0.        , -0.        , -0.        ,\n",
       "        -0.        , -0.        , -0.        , -0.        , -0.        ,\n",
       "        -0.        , -0.        , -0.        , -0.        , -0.        ,\n",
       "        -0.        , -0.        , -0.        , -0.        , -0.        ,\n",
       "        -0.        , -0.        , -0.        , -0.        ],\n",
       "       [-0.        , -0.        , -0.        , -0.        , -0.        ,\n",
       "        -0.        , -0.        , -0.        , -0.        , -0.        ,\n",
       "        -0.        , -0.        , -0.        , -0.        , -0.        ,\n",
       "        -0.        , -0.        , -0.        , -0.        , -0.        ,\n",
       "        -0.        , -0.        , -0.        , -0.        ],\n",
       "       [-0.        , -0.        , -0.        , -0.        , -0.        ,\n",
       "        -0.        , -0.        , -0.        , -0.        , -0.        ,\n",
       "        -0.        , -0.        , -0.        , -0.        , -0.        ,\n",
       "        -0.        , -0.        , -0.        , -0.        , -0.        ,\n",
       "        -0.        , -0.        , -0.        , -0.        ],\n",
       "       [-0.        , -0.        , -0.        , -0.        , -0.        ,\n",
       "        -0.        , -0.        , -0.        , -0.        , -0.        ,\n",
       "        -0.        , -0.        , -0.        , -0.        , -0.        ,\n",
       "        -0.        , -0.        , -0.        , -0.        , -0.        ,\n",
       "        -0.        , -0.        , -0.        , -0.        ],\n",
       "       [-0.        , -0.        , -0.        , -0.        , -0.        ,\n",
       "        -0.        , -0.        , -0.        , -0.        , -0.        ,\n",
       "        -0.        , -0.        , -0.        , -0.        , -0.        ,\n",
       "        -0.        , -0.        , -0.        , -0.        , -0.        ,\n",
       "        -0.        , -0.        , -0.        , -0.        ],\n",
       "       [-0.        ,  0.20751645,  0.49963979,  0.62769597,  0.76764994,\n",
       "         1.03422006,  1.54101536,  2.19104941,  2.8445747 ,  3.5435103 ,\n",
       "         4.15069436,  4.62278955,  4.82187401,  4.69975549,  4.43202141,\n",
       "         4.15374108,  3.79545887,  3.36230596,  2.91003534,  2.43488258,\n",
       "         1.90190561,  1.41456841,  0.78903059, -0.        ],\n",
       "       [-0.        ,  0.32999896,  0.37795999,  0.41996128,  0.48805151,\n",
       "         0.72505513,  1.18403805,  1.77579007,  3.03025304,  4.35638705,\n",
       "         5.4818073 ,  6.45744316,  7.27843008,  7.54675708,  6.75505146,\n",
       "         5.88053523,  5.10429054,  4.20162734,  3.64998314,  3.27584828,\n",
       "         2.6449025 ,  1.89126916,  0.9607964 , -0.        ],\n",
       "       [-0.        ,  0.40175033,  0.50698413,  0.64542624,  1.10113303,\n",
       "         1.74263327,  2.50577298,  3.35265113,  4.45271281,  5.52742779,\n",
       "         6.43399791,  7.09888484,  7.53643642,  7.68511545,  7.48931324,\n",
       "         6.7400124 ,  5.55901022,  4.33802216,  3.5605906 ,  3.08722237,\n",
       "         2.54025844,  1.83394096,  0.97954691, -0.        ],\n",
       "       [-0.        ,  0.46421686,  0.94367406,  1.37127138,  1.91046163,\n",
       "         2.5112629 ,  3.20879608,  3.90019278,  4.39372036,  4.90136318,\n",
       "         5.30810368,  5.56941417,  5.64535924,  5.62724165,  5.50060096,\n",
       "         5.26626073,  4.78684741,  4.23375592,  3.64840857,  3.08904542,\n",
       "         2.46789475,  1.76322366,  0.91958024, -0.        ],\n",
       "       [-0.        ,  0.4565692 ,  0.79772466,  1.12937889,  1.4729525 ,\n",
       "         1.8370201 ,  2.50097621,  3.29774359,  3.903949  ,  4.47656451,\n",
       "         4.93213538,  5.20750858,  5.28285837,  5.33934331,  5.30675961,\n",
       "         5.16169214,  4.85109907,  4.43614666,  3.79900553,  3.20540043,\n",
       "         2.54674799,  1.81252352,  0.93069038, -0.        ],\n",
       "       [-0.        ,  0.41641847,  0.68838072,  1.07429487,  0.93794318,\n",
       "         1.04052566,  1.72480496,  2.52087054,  3.27677028,  3.96843418,\n",
       "         4.69982566,  5.25242581,  5.5834029 ,  5.76697593,  5.89542239,\n",
       "         5.85504079,  5.56598204,  5.1765204 ,  4.31086252,  3.56780402,\n",
       "         2.7710542 ,  1.9225243 ,  0.95776635, -0.        ],\n",
       "       [-0.        ,  0.4079827 ,  0.6253731 ,  0.87844395,  0.80957568,\n",
       "         1.04891265,  1.865769  ,  2.70305309,  3.41479072,  4.11478467,\n",
       "         4.76407368,  5.16046186,  5.42856797,  5.6081338 ,  5.77492579,\n",
       "         5.74627424,  5.53729851,  5.17619105,  4.32201317,  3.55288688,\n",
       "         2.75444119,  1.91727349,  0.95045249, -0.        ],\n",
       "       [-0.        ,  0.32008521,  0.45706689,  0.57212194,  0.81128762,\n",
       "         1.03614078,  1.51829983,  2.13570749,  2.52650183,  3.15003728,\n",
       "         3.85613655,  4.50873364,  4.97527045,  5.23528647,  5.31467789,\n",
       "         5.23183816,  4.9882813 ,  4.50830358,  3.90549496,  3.12688926,\n",
       "         2.39684102,  1.69837623,  0.90228264, -0.        ],\n",
       "       [-0.        ,  0.36852206,  0.65152274,  1.005581  ,  1.43270543,\n",
       "         1.89491708,  2.42641497,  3.14027902,  3.81850751,  4.39722071,\n",
       "         4.84865505,  5.17688119,  5.36675153,  5.42454256,  5.35226556,\n",
       "         5.17671344,  4.65641732,  4.23442043,  3.66814806,  3.03621588,\n",
       "         2.36967921,  1.67338208,  0.88342436, -0.        ],\n",
       "       [-0.        ,  0.37282318,  0.49983442,  0.55472281,  0.55967041,\n",
       "         0.68676803,  1.2756278 ,  2.22773293,  3.426269  ,  4.66012716,\n",
       "         5.8160773 ,  6.7895557 ,  7.20926772,  6.68368031,  5.9599326 ,\n",
       "         5.27974476,  4.58893484,  3.86843206,  3.23861793,  2.6433589 ,\n",
       "         1.97627202,  1.44041199,  0.80826858, -0.        ]])"
      ]
     },
     "execution_count": 19,
     "metadata": {},
     "output_type": "execute_result"
    }
   ],
   "source": [
    "res.sot"
   ]
  },
  {
   "cell_type": "code",
   "execution_count": 20,
   "metadata": {},
   "outputs": [
    {
     "data": {
      "text/plain": [
       "array([[0.49237637, 0.49226352, 0.49849627, 0.48913403, 0.49337623,\n",
       "        0.49415565, 0.51326328, 0.53574447, 0.53470261, 0.53113486,\n",
       "        0.53414888, 0.63149386, 0.77623002, 0.75821017, 0.76987786,\n",
       "        0.75357432, 0.7513922 , 0.75420153, 0.7597034 , 0.74599399,\n",
       "        0.73612788, 0.50296023, 0.49323321, 0.48795702],\n",
       "       [0.75307989, 0.75774743, 0.74757947, 0.74505483, 0.74562743,\n",
       "        0.73920738, 0.76247571, 0.77008433, 0.81182329, 0.81675111,\n",
       "        0.80728588, 0.79207732, 0.76694371, 0.76417615, 0.76793275,\n",
       "        0.75689721, 0.73359418, 0.75863236, 0.72957732, 0.70067844,\n",
       "        0.69473556, 0.75221231, 0.74087313, 0.73925076]])"
      ]
     },
     "execution_count": 20,
     "metadata": {},
     "output_type": "execute_result"
    }
   ],
   "source": [
    "Load_data[1,:,:]"
   ]
  },
  {
   "cell_type": "code",
   "execution_count": 21,
   "metadata": {},
   "outputs": [
    {
     "ename": "NameError",
     "evalue": "name 'renew_real' is not defined",
     "output_type": "error",
     "traceback": [
      "\u001b[1;31m---------------------------------------------------------------------------\u001b[0m",
      "\u001b[1;31mNameError\u001b[0m                                 Traceback (most recent call last)",
      "\u001b[1;32m~\\AppData\\Local\\Temp/ipykernel_29964/2704337556.py\u001b[0m in \u001b[0;36m<cell line: 1>\u001b[1;34m()\u001b[0m\n\u001b[1;32m----> 1\u001b[1;33m \u001b[0mrenew_real\u001b[0m\u001b[1;33m\u001b[0m\u001b[1;33m\u001b[0m\u001b[0m\n\u001b[0m",
      "\u001b[1;31mNameError\u001b[0m: name 'renew_real' is not defined"
     ]
    }
   ],
   "source": [
    "renew_real"
   ]
  },
  {
   "cell_type": "code",
   "execution_count": null,
   "metadata": {},
   "outputs": [],
   "source": []
  }
 ],
 "metadata": {
  "kernelspec": {
   "display_name": ".default",
   "language": "python",
   "name": "python3"
  },
  "language_info": {
   "codemirror_mode": {
    "name": "ipython",
    "version": 3
   },
   "file_extension": ".py",
   "mimetype": "text/x-python",
   "name": "python",
   "nbconvert_exporter": "python",
   "pygments_lexer": "ipython3",
   "version": "3.9.7"
  }
 },
 "nbformat": 4,
 "nbformat_minor": 2
}
