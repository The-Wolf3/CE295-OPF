{
 "cells": [
  {
   "cell_type": "code",
   "execution_count": 41,
   "metadata": {},
   "outputs": [],
   "source": [
    "import numpy as np\n",
    "import cvxpy as cp\n",
    "\n",
    "from opftools.result import *\n",
    "\n",
    "\n",
    "\n",
    "def runMOPF(case, genData, T=1, init_sot=0.1, robust=False, verb=False, solver=None, **kwargs):\n",
    "    '''Find the solution to the OPF specified.\n",
    "    The solver uses a sparse representation of the problem\n",
    "\n",
    "    Type defines the type of relaxation used. These are \n",
    "    0 (default) -> SDR\n",
    "    1 -> SOCR\n",
    "    2 -> TCR\n",
    "    3 -> STCR\n",
    "\n",
    "    verb invokes the verbose option in cvxpy\n",
    "\n",
    "    Returns:\n",
    "        RunResult instance with the optimal values\n",
    "        -> None if optimizer does not converge \n",
    "    '''\n",
    "    # load data from case\n",
    "    n = case.N\n",
    "    baseMVA = case.mva\n",
    "    Load_data = case.loadData\n",
    "    Gen_data = case.genData\n",
    "    Costs_data = case.cost\n",
    "    Y = case.adj\n",
    "    Sij = case.smax\n",
    "    v_lim = case.vlim\n",
    "    lines = case.getLines()\n",
    "\n",
    "    renew = genData.renew\n",
    "    avgs = genData.avgs\n",
    "    stds = genData.stds\n",
    "    batteries = genData.batteries\n",
    "    diesel = genData.diesel\n",
    "    Load_data = genData.Load_data\n",
    "    renew_lim = genData.renew_lim\n",
    "\n",
    "    #Voltage matrix\n",
    "    V = [cp.Variable((n,n), hermitian=True) for _ in range(T)]\n",
    "\n",
    "    # power transfer variables\n",
    "    pij = cp.Variable((len(lines), T))\n",
    "    pji = cp.Variable((len(lines), T))\n",
    "    qij = cp.Variable((len(lines), T))\n",
    "    qji = cp.Variable((len(lines), T))\n",
    "\n",
    "    # total generation variable\n",
    "    pi_g = cp.Variable((n, T))\n",
    "    qi_g = cp.Variable((n, T))\n",
    "    renew_real = cp.Variable((len(renew), T))\n",
    "    renew_react = cp.Variable((len(renew), T))\n",
    "\n",
    "    \n",
    "\n",
    "    diesel_real = cp.Variable((len(diesel), T))\n",
    "    diesel_react = cp.Variable((len(diesel), T))\n",
    "    sot = cp.Variable((n, T))\n",
    "    pow_out = cp.Variable((n, T))\n",
    "    pow_in = cp.Variable((n, T))\n",
    "\n",
    "    max_out = 20\n",
    "    max_in = 20\n",
    "    max_charge = 100\n",
    "    eta_in = 0.95\n",
    "    eta_out = 0.95\n",
    "    initial_sot = np.ones(n)*0.1\n",
    "\n",
    "\n",
    "\n",
    "    # Define constraints\n",
    "    constraints=[]\n",
    "\n",
    "    constraints += [pow_out >= 0, pow_in >= 0, sot >= 0]\n",
    "    constraints += [pow_out <= max_out, pow_in <= max_in, sot <= max_charge]\n",
    "\n",
    "    #Constraints on active and reactive generation (min-max)\n",
    "    constraints += [diesel_real >= 0, diesel_real <= 50]\n",
    "    constraints += [diesel_react >= -50, diesel_react <= 50]\n",
    "    constraints += [renew_react >= -50, renew_react <= 50]\n",
    "    constraints += [renew_real <= renew_lim]\n",
    "    constraints += [renew_real >= 0]\n",
    "\n",
    "\n",
    "    # Calculate the sum of all inbound power flows to each bus\n",
    "    for t in range(T):\n",
    "\n",
    "        if robust:\n",
    "            constraints += [cp.norm((renew_real[:,t]-avgs[t])/stds[t]) <= 1]\n",
    "\n",
    "        for i in range(n) :  \n",
    "            psum = 0\n",
    "            qsum = 0\n",
    "            for line in range(len(lines)):\n",
    "                start, end = lines[line]\n",
    "                if start == i:\n",
    "                    psum += pij[line, t]\n",
    "                    qsum += qij[line, t]\n",
    "                elif end == i:\n",
    "                    psum += pji[line, t]\n",
    "                    qsum += qji[line, t]\n",
    "\n",
    "            # Sum pij = pi\n",
    "            if t>0 and i in batteries:\n",
    "                constraints += [sot[i, t] == sot[i, t-1] + (pow_in[i, t]*eta_in-pow_out[i, t]/eta_out)]\n",
    "            else:\n",
    "                constraints += [sot[i, t] == initial_sot]\n",
    "                constraints += [pow_in[i, t]==0, pow_out[i, t] == 0]\n",
    "            gensum = 0\n",
    "            rgensum = 0\n",
    "            if i in batteries:\n",
    "                gensum += pow_in[i, t]-pow_out[i, t]\n",
    "            if i in renew:\n",
    "                gensum += renew_real[renew.index(i)]\n",
    "                rgensum += renew_react[renew.index(i)]\n",
    "            if i in diesel:\n",
    "                gensum += diesel_real[diesel.index(i)]\n",
    "                rgensum += diesel_react[diesel.index(i)]\n",
    "            constraints += [psum == gensum-Load_data[i,0, t]]\n",
    "            # Sum qij = qi \n",
    "            constraints += [qsum == rgensum-Load_data[i,1, t]]\n",
    "\n",
    "            \n",
    "\n",
    "            # Voltage limits\n",
    "            constraints+=[cp.real(V[t][i,i])>= (v_lim[i,1])**2, cp.real(V[t][i,i]) <= (v_lim[i,0])**2]\n",
    "            constraints += [cp.imag(V[t][i,i]) == 0]\n",
    "\n",
    "        # Power flow equations (sparse representation)\n",
    "        for line in range(len(lines)):\n",
    "            i, j = lines[line]\n",
    "                \n",
    "            #Powerflow\n",
    "            constraints+=[pij[line, t] + 1j*qij[line, t]==(V[t][i,i]-V[t][i,j])*np.conjugate(Y[i,j])] \n",
    "            constraints+=[pji[line, t] + 1j*qji[line, t]==(V[t][j,j]-V[t][j,i])*np.conjugate(Y[j,i])] \n",
    "            \n",
    "            if not Sij[i,j] == 0:\n",
    "            #Apparent power capacity S_bar\n",
    "                constraints+=[cp.square(pij[line, t])+cp.square(qij[line, t])<=cp.square(Sij[i,j])]\n",
    "                constraints+=[cp.square(pji[line, t])+cp.square(qji[line, t])<=cp.square(Sij[j,i])]\n",
    "                \n",
    "        for line in range(len(lines)):\n",
    "            i, j = lines[line]\n",
    "            constraints+=[cp.norm(cp.hstack([2*V[t][i,j],(V[t][i,i]-V[t][j,j])])) <= cp.real(V[t][i,i]+V[t][j,j])]\n",
    "            constraints+=[cp.norm(cp.hstack([2*V[t][j,i],(V[t][j,j]-V[t][i,i])])) <= cp.real(V[t][j,j]+V[t][i,i])]\n",
    "\n",
    "    # Define costs\n",
    "    Costs = cp.sum(diesel_real)\n",
    "    #for i in range(n): \n",
    "    #    c0 = Costs_data[i][2]\n",
    "    #    c1 = Costs_data[i][1]\n",
    "    #    c2 = Costs_data[i][0]\n",
    "    #    if c1 > 0.0: # Bus has a generator installed\n",
    "    #        Costs += c0+c1*pi_g[i]*baseMVA+c2*cp.square(pi_g[i]*baseMVA)\n",
    "    \n",
    "    prob = cp.Problem(cp.Minimize(Costs), constraints)\n",
    "    prob.solve()\n",
    "    ans = RunResult()\n",
    "    return prob.value\n",
    "    try:\n",
    "        ans.setAll(pi_g.value*baseMVA, qi_g*baseMVA, V.value, prob.value)\n",
    "    except TypeError:\n",
    "        return None\n",
    "    return ans"
   ]
  },
  {
   "cell_type": "code",
   "execution_count": 5,
   "metadata": {},
   "outputs": [],
   "source": [
    "from opftools import *"
   ]
  },
  {
   "cell_type": "code",
   "execution_count": 7,
   "metadata": {},
   "outputs": [],
   "source": [
    "case39 = loadCase(\"C:\\\\Users\\\\Jean-Luc\\\\Documents\\\\PolyMtl\\\\Git\\\\OPF_Tools\\\\cases\\\\case39.json\")"
   ]
  },
  {
   "cell_type": "code",
   "execution_count": 12,
   "metadata": {},
   "outputs": [],
   "source": [
    "result = runOPF(case39)"
   ]
  },
  {
   "cell_type": "code",
   "execution_count": 17,
   "metadata": {},
   "outputs": [
    {
     "data": {
      "text/plain": [
       "63.007585748329944"
      ]
     },
     "execution_count": 17,
     "metadata": {},
     "output_type": "execute_result"
    }
   ],
   "source": [
    "np.sum(result.p/case39.mva)"
   ]
  },
  {
   "cell_type": "code",
   "execution_count": 16,
   "metadata": {},
   "outputs": [
    {
     "data": {
      "text/plain": [
       "62.542300000000004"
      ]
     },
     "execution_count": 16,
     "metadata": {},
     "output_type": "execute_result"
    }
   ],
   "source": [
    "np.sum(case39.loadData[:,0])"
   ]
  },
  {
   "cell_type": "code",
   "execution_count": 18,
   "metadata": {},
   "outputs": [
    {
     "data": {
      "text/plain": [
       "29"
      ]
     },
     "execution_count": 18,
     "metadata": {},
     "output_type": "execute_result"
    }
   ],
   "source": [
    "np.sum(case39.genData[:,0] == 0)"
   ]
  },
  {
   "cell_type": "code",
   "execution_count": 32,
   "metadata": {},
   "outputs": [],
   "source": [
    "diesel = [30]\n",
    "batteries = [31, 32, 33, 34, 35, 36, 37, 38]\n",
    "renew = [31, 32, 33, 34, 35, 36, 37, 38]\n",
    "\n",
    "class gens:\n",
    "\n",
    "    def __init__(self, diesel, batteries, renew, avgs, stds, Load_data, renew_lim):\n",
    "        self.renew = renew\n",
    "        self.diesel = diesel\n",
    "        self.batteries = batteries\n",
    "        self.avgs = avgs\n",
    "        self.stds = stds\n",
    "        self.Load_data = Load_data\n",
    "        self.renew_lim = renew_lim\n"
   ]
  },
  {
   "cell_type": "code",
   "execution_count": 30,
   "metadata": {},
   "outputs": [],
   "source": [
    "import os\n",
    "pv_directory   = 'PV Generation Data'\n",
    "load_directory = 'Building Load Data'\n",
    "wind_directory = 'Wind Generation Data'\n",
    "\n",
    "# ALREADY GENERATED, takes 5 minutes to generate again so keep commented out\n",
    "#dp.generate_json_from_pv_data(pv_directory) \n",
    "#dp.generate_json_from_bldg_data(load_directory) \n",
    "#dp.generate_json_from_wind_data(wind_directory) \n",
    "\n",
    "with open(os.path.join(pv_directory, 'pv_data.json'), 'r') as json_file:\n",
    "    pv_dict = json.load(json_file)\n",
    "\n",
    "for key in pv_dict.keys(): # get data from first key only (CAPTL_WF)\n",
    "    solar_data = np.array(pv_dict[key])\n",
    "    break\n",
    "\n",
    "# for key, value in pv_dict.items():\n",
    "    # print(key, value['0'])\n",
    "    # break\n",
    "\n",
    "with open(os.path.join(load_directory, 'real_data.json'), 'r') as json_file:\n",
    "    real_load_dict = json.load(json_file)\n",
    "\n",
    "with open(os.path.join(load_directory, 'reactive_data.json'), 'r') as json_file:\n",
    "    reactive_load_dict = json.load(json_file)\n",
    "\n",
    "with open(os.path.join(wind_directory, 'wind_data.json'), 'r') as json_file:\n",
    "    wind_dict = json.load(json_file)\n",
    "\n",
    "real_load_dict.keys()\n",
    "real_load_dict['GeiselLibrary0']['0']\n",
    "def toNDct(dict):\n",
    "    ans = []\n",
    "    for bld in dict:\n",
    "        ls2 = []\n",
    "        for day in dict[bld]:\n",
    "            ls2.append(dict[bld][day])\n",
    "        ans.append(ls2)\n",
    "    return np.asarray(ans)\n",
    "\n",
    "real_load = toNDct(real_load_dict)\n",
    "react_load = toNDct(reactive_load_dict)\n",
    "wind = toNDct(wind_dict)\n",
    "solar = toNDct(pv_dict)\n"
   ]
  },
  {
   "cell_type": "code",
   "execution_count": 33,
   "metadata": {},
   "outputs": [],
   "source": [
    "Load_data = np.zeros((39, 2, 24))\n",
    "Load_data[:27,:] = np.stack((real_load[:,0,0::4], react_load[:,0,0::4]), axis=1)\n",
    "renew_lim = wind[:8,0,0::4]+solar[:8,0,0::4]\n",
    "avgs = np.mean(wind[:8,:,0::4]+solar[:8,:,0::4], axis=1)\n",
    "stds = np.std(wind[:8,:,0::4]+solar[:8,:,0::4], axis=1)\n",
    "\n",
    "genDat = gens(diesel, batteries, renew, avgs, stds, Load_data, renew_lim)"
   ]
  },
  {
   "cell_type": "code",
   "execution_count": null,
   "metadata": {},
   "outputs": [],
   "source": [
    "re"
   ]
  },
  {
   "cell_type": "code",
   "execution_count": 38,
   "metadata": {},
   "outputs": [
    {
     "data": {
      "text/plain": [
       "(8, 24)"
      ]
     },
     "execution_count": 38,
     "metadata": {},
     "output_type": "execute_result"
    }
   ],
   "source": [
    "renew_lim.shape"
   ]
  },
  {
   "cell_type": "code",
   "execution_count": 42,
   "metadata": {},
   "outputs": [],
   "source": [
    "runMOPF(case39, genDat, T=24)"
   ]
  },
  {
   "cell_type": "code",
   "execution_count": 25,
   "metadata": {},
   "outputs": [
    {
     "data": {
      "text/plain": [
       "array([[0.49237637, 0.49226352, 0.49849627, 0.48913403, 0.49337623,\n",
       "        0.49415565, 0.51326328, 0.53574447, 0.53470261, 0.53113486,\n",
       "        0.53414888, 0.63149386, 0.77623002, 0.75821017, 0.76987786,\n",
       "        0.75357432, 0.7513922 , 0.75420153, 0.7597034 , 0.74599399,\n",
       "        0.73612788, 0.50296023, 0.49323321, 0.48795702],\n",
       "       [0.75307989, 0.75774743, 0.74757947, 0.74505483, 0.74562743,\n",
       "        0.73920738, 0.76247571, 0.77008433, 0.81182329, 0.81675111,\n",
       "        0.80728588, 0.79207732, 0.76694371, 0.76417615, 0.76793275,\n",
       "        0.75689721, 0.73359418, 0.75863236, 0.72957732, 0.70067844,\n",
       "        0.69473556, 0.75221231, 0.74087313, 0.73925076]])"
      ]
     },
     "execution_count": 25,
     "metadata": {},
     "output_type": "execute_result"
    }
   ],
   "source": [
    "Load_data[1,:,:]"
   ]
  },
  {
   "cell_type": "code",
   "execution_count": 27,
   "metadata": {},
   "outputs": [
    {
     "data": {
      "text/plain": [
       "array([[0.00199402, 0.04417514, 0.03876486, 0.17492356, 0.31108226,\n",
       "        0.48871977, 0.61088906, 0.69841441, 1.08520606, 1.36829583,\n",
       "        1.25955209, 1.25065741, 1.23044087, 0.90327754, 0.39972868,\n",
       "        0.39386763, 0.52803717, 0.45375236, 0.6331933 , 0.78738626,\n",
       "        0.56917166, 0.43842323, 0.28152513, 0.27070457],\n",
       "       [0.76430181, 0.88204358, 0.82365568, 0.83717935, 0.9471933 ,\n",
       "        0.95449179, 0.95320382, 1.00627193, 1.28572025, 1.56188329,\n",
       "        1.50331855, 1.24462166, 1.09384438, 0.94682202, 0.81240631,\n",
       "        0.50156548, 0.20736622, 0.1653808 , 0.47053773, 0.78544596,\n",
       "        0.91531609, 0.6904583 , 0.70290866, 0.82140174],\n",
       "       [0.71416467, 0.92373958, 0.9840418 , 0.89549499, 0.93630843,\n",
       "        0.93602599, 0.92373958, 0.95283152, 0.8528451 , 1.14338488,\n",
       "        1.34799135, 1.32852458, 1.03172002, 0.90254947, 0.74931378,\n",
       "        0.67657746, 0.27695055, 0.20475755, 0.60302217, 0.79663889,\n",
       "        0.92049146, 0.74805818, 0.73435955, 0.56658664],\n",
       "       [0.30260799, 0.26139289, 0.24742   , 0.30365975, 0.33480352,\n",
       "        0.37528013, 0.59276031, 0.84773522, 0.84615126, 1.05808457,\n",
       "        1.20070266, 0.96715004, 0.73152587, 1.05891737, 1.24098856,\n",
       "        1.02813772, 0.86821106, 0.5922085 , 0.16633113, 0.20473535,\n",
       "        0.14379333, 0.11104031, 0.02618899, 0.05483478],\n",
       "       [0.41724714, 0.49668319, 0.49817219, 0.52996399, 0.31177783,\n",
       "        0.36811441, 0.60219646, 0.73750479, 0.81214683, 0.87670198,\n",
       "        1.34040603, 1.35941411, 1.11259231, 1.03361849, 1.23550444,\n",
       "        1.00239309, 0.62297554, 0.56050669, 0.15139488, 0.24390232,\n",
       "        0.13985619, 0.07773922, 0.03583166, 0.05750796],\n",
       "       [0.22586992, 0.25399142, 0.23709665, 0.27529819, 0.27082058,\n",
       "        0.44065252, 0.67012381, 0.74319595, 0.73639589, 0.87742429,\n",
       "        1.04163452, 0.79288726, 0.83644747, 0.92252379, 1.50955938,\n",
       "        0.91700192, 0.7349906 , 0.50405367, 0.11000941, 0.11561185,\n",
       "        0.09423952, 0.07401391, 0.00539749, 0.03689355],\n",
       "       [0.12696786, 0.17839138, 0.22605839, 0.2917371 , 0.41707441,\n",
       "        0.43651692, 0.53027532, 0.59494924, 0.52182457, 0.73109246,\n",
       "        0.96913872, 1.28613644, 1.34326628, 1.29286585, 1.27519371,\n",
       "        1.15742485, 1.0446002 , 0.6782362 , 0.56852521, 0.33552773,\n",
       "        0.42391656, 0.5221951 , 0.47108839, 0.52768849],\n",
       "       [0.68255619, 0.65630764, 0.66487354, 0.66033603, 0.65922203,\n",
       "        0.66193581, 0.67439669, 0.88336679, 1.16465765, 1.41244203,\n",
       "        1.52965935, 1.5923592 , 1.57141621, 1.52305498, 1.27764007,\n",
       "        1.12540442, 0.32881168, 0.67950593, 0.65776572, 0.65710599,\n",
       "        0.65927157, 0.66063621, 0.6542608 , 0.65481773]])"
      ]
     },
     "execution_count": 27,
     "metadata": {},
     "output_type": "execute_result"
    }
   ],
   "source": [
    "renew_real"
   ]
  },
  {
   "cell_type": "code",
   "execution_count": null,
   "metadata": {},
   "outputs": [],
   "source": []
  }
 ],
 "metadata": {
  "kernelspec": {
   "display_name": ".default",
   "language": "python",
   "name": "python3"
  },
  "language_info": {
   "codemirror_mode": {
    "name": "ipython",
    "version": 3
   },
   "file_extension": ".py",
   "mimetype": "text/x-python",
   "name": "python",
   "nbconvert_exporter": "python",
   "pygments_lexer": "ipython3",
   "version": "3.9.13"
  }
 },
 "nbformat": 4,
 "nbformat_minor": 2
}
